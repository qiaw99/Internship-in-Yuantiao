{
 "cells": [
  {
   "cell_type": "markdown",
   "metadata": {},
   "source": [
    "## 线性回归\n",
    "![](linear_regression.png)\n",
    "\n",
    "### API:\n",
    "```python\n",
    "sklearn.linear_model.LinearRegression()\n",
    "```\n",
    "- LinearRegression.coef: 回归系数"
   ]
  },
  {
   "cell_type": "code",
   "execution_count": 9,
   "metadata": {},
   "outputs": [
    {
     "name": "stdout",
     "output_type": "stream",
     "text": [
      "[0.3 0.7]\n",
      "[86.]\n"
     ]
    }
   ],
   "source": [
    "from sklearn.linear_model import LinearRegression\n",
    "\n",
    "x = [[80, 86], \n",
    "     [82, 80], \n",
    "     [85, 78],\n",
    "     [90, 90],\n",
    "     [86, 82],\n",
    "     [82, 90],\n",
    "     [78, 80],\n",
    "     [92, 94]]\n",
    "\n",
    "y = [84.2, 80.6, 80.1, 90, 83.2, 87.6, 79.4, 93.4]\n",
    "\n",
    "estimator = LinearRegression()\n",
    "\n",
    "estimator.fit(x, y)\n",
    "\n",
    "print(estimator.coef_)\n",
    "print(estimator.predict([[100, 80]]))"
   ]
  },
  {
   "cell_type": "markdown",
   "metadata": {},
   "source": [
    "## 线性回归的损失和优化\n",
    "![](./img/lost_function.png)\n",
    "\n",
    "![](./img/formal.png)\n",
    "\n",
    "## 梯度下降 Gradient Descent\n",
    "![](./img/withonevariable.png)\n",
    "\n",
    "![](./img/withmultiplevariables.png)\n",
    "\n",
    "a - 学习率"
   ]
  },
  {
   "cell_type": "markdown",
   "metadata": {},
   "source": [
    "### 梯度下降法\n",
    "- 全梯度下降算法 (Full gradient descent)\n",
    "- 随机梯度下降算法 (Stochastic radient descent)\n",
    "- 小批量梯度下降算法 (Mini-batch gradient descent)\n",
    "- 随机平均梯度下降算法 (Stochastic average gradient descent)\n",
    "\n",
    "#### 全梯度下降算法 FG\n",
    "计算训练集所有样本误差，对其求和再取平均值作为目标函数。\n",
    "\n",
    "**批梯度下降法不能在线更新模型：在运行的过程中，不能增加新的样本**\n",
    "\n",
    "#### 随机梯度下降算法 SG\n",
    "每次只带入计算一个样本目标函数的梯度来更新权重，再取下一个样本重复此过程，直到损失函数值停止下降或损失函数值小于某个可以容忍的阈值。\n",
    "\n",
    "**缺点**: 因为每次只使用一个样本迭代，容易陷入局部解\n",
    "\n",
    "#### 小批量梯度下降算法 mini-batch \n",
    "每次从训练样本集上随机抽取一个小样本集，在抽出来的小样本集上使用**FG**迭代更新权重\n",
    "\n",
    "#### 随机平均梯度下降算法 SAG\n",
    "在内存中为每一个样本都维护一个旧的梯度，随机选择第i个样本来更新此样本的梯度，其他的样本梯度保持不变，然后求所有梯度的平均值，进而更新参数。"
   ]
  },
  {
   "cell_type": "markdown",
   "metadata": {},
   "source": [
    "### 线性回归的API： \n",
    "- sklearn.linear_model.LinearRegression(fit_intercept=True)\n",
    "    - 参数: fit_intercept 是否计算偏置 \n",
    "    - 属性: \n",
    "        - LinearRegression.coef_: 回归系数\n",
    "        - LinearRegression.intercept_: 偏置\n",
    "        \n",
    "- sklearn.linear_model.SGDRegressor(loss=\"squared_loss\",fit_intercept=True, learning_rate=\"invscaling\", eta0=0.01)\n",
    "    - 参数: \n",
    "        - loss: 损失类型\n",
    "            - loss=\"squared_loss\"： 普通最小二乘法\n",
    "        - fit_intercept: 是否计算偏置\n",
    "        - learning_rate: 学习率填充\n",
    "    - 属性: \n",
    "        - LinearRegression.coef_: 回归系数\n",
    "        - LinearRegression.intercept_: 偏置"
   ]
  }
 ],
 "metadata": {
  "kernelspec": {
   "display_name": "Python 3",
   "language": "python",
   "name": "python3"
  },
  "language_info": {
   "codemirror_mode": {
    "name": "ipython",
    "version": 3
   },
   "file_extension": ".py",
   "mimetype": "text/x-python",
   "name": "python",
   "nbconvert_exporter": "python",
   "pygments_lexer": "ipython3",
   "version": "3.8.0"
  },
  "toc": {
   "base_numbering": 1,
   "nav_menu": {},
   "number_sections": true,
   "sideBar": true,
   "skip_h1_title": false,
   "title_cell": "Table of Contents",
   "title_sidebar": "Contents",
   "toc_cell": false,
   "toc_position": {},
   "toc_section_display": true,
   "toc_window_display": false
  },
  "varInspector": {
   "cols": {
    "lenName": 16,
    "lenType": 16,
    "lenVar": 40
   },
   "kernels_config": {
    "python": {
     "delete_cmd_postfix": "",
     "delete_cmd_prefix": "del ",
     "library": "var_list.py",
     "varRefreshCmd": "print(var_dic_list())"
    },
    "r": {
     "delete_cmd_postfix": ") ",
     "delete_cmd_prefix": "rm(",
     "library": "var_list.r",
     "varRefreshCmd": "cat(var_dic_list()) "
    }
   },
   "types_to_exclude": [
    "module",
    "function",
    "builtin_function_or_method",
    "instance",
    "_Feature"
   ],
   "window_display": false
  }
 },
 "nbformat": 4,
 "nbformat_minor": 2
}
